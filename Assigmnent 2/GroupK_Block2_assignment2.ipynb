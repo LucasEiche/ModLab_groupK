{
 "cells": [
  {
   "cell_type": "markdown",
   "id": "7463883b",
   "metadata": {},
   "source": [
    "#### Assignment 2\n"
   ]
  },
  {
   "cell_type": "markdown",
   "id": "943e76d0",
   "metadata": {},
   "source": [
    "1. The three different types of calculation for absorption studies that AiiDAlab offers are the following:\n",
    "- Isotherm \n",
    "- Pore analysis\n",
    "- Geometry Optimization "
   ]
  },
  {
   "cell_type": "markdown",
   "id": "21103dc9",
   "metadata": {},
   "source": [
    "2. The following results were computed for the IRMOF-1 using a probe radius of 1.525 Å:\n",
    "- Density = 0.576983  $g/cm^3$\n",
    "- accessible surface area - ASA = 3964.65 $Å^2$\n",
    "- accessible probeoccupiable volume - POAV = 13737.4 $Å^3$\n",
    "- porosity= 0.77498"
   ]
  },
  {
   "cell_type": "markdown",
   "id": "ca15e594",
   "metadata": {},
   "source": [
    "3. The henry coefficient average for CO<sub>2</sub> at 300 K is 4.95305*10<sup>-6</sup>. It was found by running isotherm simulation on AiiDAlab. \n"
   ]
  },
  {
   "cell_type": "markdown",
   "id": "9a86497d",
   "metadata": {},
   "source": [
    "5. The package \"pyIAST\" was used to obtain the binary-mixture isotherms by the linear interpolation method for a pressure range from 0.1 to 4.0 bar with increments of 0.2 bar. The needed code and the corresponding graph are shown below."
   ]
  },
  {
   "cell_type": "code",
   "execution_count": null,
   "id": "113e86b7",
   "metadata": {},
   "outputs": [
    {
     "ename": "AttributeError",
     "evalue": "'numpy.ndarray' object has no attribute 'values'",
     "output_type": "error",
     "traceback": [
      "\u001b[31m---------------------------------------------------------------------------\u001b[39m",
      "\u001b[31mAttributeError\u001b[39m                            Traceback (most recent call last)",
      "\u001b[36mCell\u001b[39m\u001b[36m \u001b[39m\u001b[32mIn[6]\u001b[39m\u001b[32m, line 12\u001b[39m\n\u001b[32m      9\u001b[39m loading_gas2 = np.array([\u001b[32m0.0\u001b[39m, \u001b[32m0.3\u001b[39m, \u001b[32m0.7\u001b[39m, \u001b[32m1.1\u001b[39m, \u001b[32m1.6\u001b[39m, \u001b[32m2.0\u001b[39m, \u001b[32m2.3\u001b[39m, \u001b[32m2.5\u001b[39m, \u001b[32m2.6\u001b[39m, \u001b[32m2.7\u001b[39m])  \u001b[38;5;66;03m# mmol/g\u001b[39;00m\n\u001b[32m     11\u001b[39m \u001b[38;5;66;03m# Create Isotherm objects using interpolation\u001b[39;00m\n\u001b[32m---> \u001b[39m\u001b[32m12\u001b[39m iso_gas1 = \u001b[43mpyiast\u001b[49m\u001b[43m.\u001b[49m\u001b[43mInterpolatorIsotherm\u001b[49m\u001b[43m(\u001b[49m\n\u001b[32m     13\u001b[39m \u001b[43m    \u001b[49m\u001b[43mpressures\u001b[49m\u001b[43m,\u001b[49m\n\u001b[32m     14\u001b[39m \u001b[43m    \u001b[49m\u001b[43mloading_gas1\u001b[49m\u001b[43m,\u001b[49m\n\u001b[32m     15\u001b[39m \u001b[43m    \u001b[49m\u001b[43mfill_value\u001b[49m\u001b[43m=\u001b[49m\u001b[33;43m\"\u001b[39;49m\u001b[33;43mextrapolate\u001b[39;49m\u001b[33;43m\"\u001b[39;49m\u001b[43m,\u001b[49m\n\u001b[32m     16\u001b[39m \u001b[43m)\u001b[49m\n\u001b[32m     18\u001b[39m iso_gas2 = pyiast.InterpolatorIsotherm(\n\u001b[32m     19\u001b[39m     pressures,\n\u001b[32m     20\u001b[39m     loading_gas2,\n\u001b[32m   (...)\u001b[39m\u001b[32m     23\u001b[39m     material_name=\u001b[33m\"\u001b[39m\u001b[33mMyMaterial\u001b[39m\u001b[33m\"\u001b[39m\n\u001b[32m     24\u001b[39m )\n\u001b[32m     26\u001b[39m \u001b[38;5;66;03m# --- Mixture calculation ---\u001b[39;00m\n\u001b[32m     27\u001b[39m \u001b[38;5;66;03m# Define mixture composition (example: 50/50)\u001b[39;00m\n",
      "\u001b[36mFile \u001b[39m\u001b[32mc:\\Users\\eiche\\anaconda3\\envs\\modlab\\Lib\\site-packages\\pyiast\\isotherms.py:429\u001b[39m, in \u001b[36mInterpolatorIsotherm.__init__\u001b[39m\u001b[34m(self, df, loading_key, pressure_key, fill_value)\u001b[39m\n\u001b[32m    407\u001b[39m \u001b[38;5;250m\u001b[39m\u001b[33;03m\"\"\"\u001b[39;00m\n\u001b[32m    408\u001b[39m \u001b[33;03mInstantiation. InterpolatorIsotherm is instantiated by passing it the\u001b[39;00m\n\u001b[32m    409\u001b[39m \u001b[33;03mpure-component adsorption isotherm data in the form of a Pandas\u001b[39;00m\n\u001b[32m   (...)\u001b[39m\u001b[32m    425\u001b[39m \u001b[33;03m:rtype: InterpolatorIsotherm\u001b[39;00m\n\u001b[32m    426\u001b[39m \u001b[33;03m\"\"\"\u001b[39;00m\n\u001b[32m    427\u001b[39m \u001b[38;5;66;03m# if pressure = 0 not in data frame, add it for interpolation between\u001b[39;00m\n\u001b[32m    428\u001b[39m \u001b[38;5;66;03m#   p = 0 and the lowest, nonzero pressure point.\u001b[39;00m\n\u001b[32m--> \u001b[39m\u001b[32m429\u001b[39m \u001b[38;5;28;01mif\u001b[39;00m \u001b[32m0.0\u001b[39m \u001b[38;5;129;01mnot\u001b[39;00m \u001b[38;5;129;01min\u001b[39;00m \u001b[43mdf\u001b[49m\u001b[43m[\u001b[49m\u001b[43mpressure_key\u001b[49m\u001b[43m]\u001b[49m\u001b[43m.\u001b[49m\u001b[43mvalues\u001b[49m:\n\u001b[32m    430\u001b[39m     df = pd.concat([\n\u001b[32m    431\u001b[39m         pd.DataFrame({\n\u001b[32m    432\u001b[39m             pressure_key: \u001b[32m0.0\u001b[39m,\n\u001b[32m    433\u001b[39m             loading_key: \u001b[32m0.0\u001b[39m\n\u001b[32m    434\u001b[39m         }, index=[\u001b[32m0\u001b[39m]), df\n\u001b[32m    435\u001b[39m     ])\n\u001b[32m    437\u001b[39m \u001b[38;5;66;03m# store isotherm data in self\u001b[39;00m\n\u001b[32m    438\u001b[39m \u001b[38;5;66;03m#: Pandas DataFrame on which isotherm was fit\u001b[39;00m\n",
      "\u001b[31mAttributeError\u001b[39m: 'numpy.ndarray' object has no attribute 'values'"
     ]
    }
   ],
   "source": [
    "import numpy as np\n",
    "import matplotlib.pyplot as plt\n",
    "import pyiast\n",
    "import pandas as pd\n",
    "\n",
    "# --- Example pure-component isotherm data (replace with your real data) ---\n",
    "# Let's assume we have 10 data points for each gas between 0 and 4 bar\n",
    "pressures = np.linspace(0, 4, 10)\n",
    "df_ch4 = pd.read_csv(\"IRMOF-1_methane_isotherm_298K.csv\")\n",
    "df_CO2\n",
    "\n",
    "# Create Isotherm objects using interpolation\n",
    "iso_gas1 = pyiast.InterpolatorIsotherm(\n",
    "    pressures,\n",
    "    loading_gas1,\n",
    "    fill_value=\"extrapolate\",\n",
    ")\n",
    "\n",
    "iso_gas2 = pyiast.InterpolatorIsotherm(\n",
    "    pressures,\n",
    "    loading_gas2,\n",
    "    fill_value=\"extrapolate\",\n",
    "    interpolation_type=\"linear\",\n",
    "    material_name=\"MyMaterial\"\n",
    ")\n",
    "\n",
    "# --- Mixture calculation ---\n",
    "# Define mixture composition (example: 50/50)\n",
    "mole_fraction = [0.5, 0.5]\n",
    "\n",
    "# Pressure range 0.1 to 4.0 with 0.2 increments\n",
    "P_range = np.arange(0.1, 4.0 + 0.01, 0.2)\n",
    "\n",
    "# Run IAST for each pressure\n",
    "loadings_gas1 = []\n",
    "loadings_gas2 = []\n",
    "\n",
    "for P in P_range:\n",
    "    result = pyiast.iast(\n",
    "        total_pressure=P,\n",
    "        mole_fractions=mole_fraction,\n",
    "        isotherms=[iso_gas1, iso_gas2],\n",
    "        interpolation_type=\"linear\"\n",
    "    )\n",
    "    loadings_gas1.append(result[0])\n",
    "    loadings_gas2.append(result[1])\n",
    "\n",
    "# --- Plot results ---\n",
    "plt.figure(figsize=(8,6))\n",
    "plt.plot(P_range, loadings_gas1, 'o-', label='Gas1 uptake')\n",
    "plt.plot(P_range, loadings_gas2, 's-', label='Gas2 uptake')\n",
    "plt.xlabel(\"Pressure (bar)\")\n",
    "plt.ylabel(\"Loading (mmol/g)\")\n",
    "plt.title(\"Binary Mixture Isotherms (50/50, Linear Interpolation)\")\n",
    "plt.legend()\n",
    "plt.grid(True)\n",
    "plt.show()\n"
   ]
  }
 ],
 "metadata": {
  "kernelspec": {
   "display_name": "modlab",
   "language": "python",
   "name": "python3"
  },
  "language_info": {
   "codemirror_mode": {
    "name": "ipython",
    "version": 3
   },
   "file_extension": ".py",
   "mimetype": "text/x-python",
   "name": "python",
   "nbconvert_exporter": "python",
   "pygments_lexer": "ipython3",
   "version": "3.13.7"
  }
 },
 "nbformat": 4,
 "nbformat_minor": 5
}
