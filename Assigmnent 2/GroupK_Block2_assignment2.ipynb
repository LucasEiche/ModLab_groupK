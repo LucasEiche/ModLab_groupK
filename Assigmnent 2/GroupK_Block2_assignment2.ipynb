{
 "cells": [
  {
   "cell_type": "markdown",
   "id": "7463883b",
   "metadata": {},
   "source": [
    "#### Assignment 2\n"
   ]
  },
  {
   "cell_type": "markdown",
   "id": "b271882d",
   "metadata": {},
   "source": [
    "1) "
   ]
  },
  {
   "cell_type": "markdown",
   "id": "73f878e4",
   "metadata": {},
   "source": [
    "2. The following results were computed for the IRMOF-1:\n",
    "- $Density = 0.576983 g/cm^3$\n",
    "- $accessible surface area - ASA = 3964.65 A^2$\n",
    "- $accessible probeoccupiable volume - POAV = 13737.4 A^3$\n",
    "- $density=0.77498$"
   ]
  }
 ],
 "metadata": {
  "kernelspec": {
   "display_name": "modlab",
   "language": "python",
   "name": "python3"
  },
  "language_info": {
   "name": "python",
   "version": "3.13.7"
  }
 },
 "nbformat": 4,
 "nbformat_minor": 5
}
