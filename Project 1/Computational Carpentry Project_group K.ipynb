{
 "cells": [
  {
   "cell_type": "markdown",
   "id": "d7492a09",
   "metadata": {},
   "source": [
    "# Computational Carpentry - Project\n",
    "#### Group K - Julian Barth, Marin Desgeans, Lucas Eichenberger\n",
    "26 september 2025\n",
    "\n",
    "\n",
    "#### Part A – Data structures and functions\n",
    "\n",
    "The goal of this part is to create a function capable of calculating the molecular mass of any molecule. For this we will first load a periodic table containing all the elements' masses."
   ]
  },
  {
   "cell_type": "code",
   "execution_count": 2,
   "id": "f8d74fd6",
   "metadata": {},
   "outputs": [],
   "source": [
    "import pandas as pd\n",
    "import re\n",
    "from collections import defaultdict\n",
    "\n",
    "# 1. Load periodic_table.csv\n",
    "df = pd.read_csv(\"periodic_table.csv\")"
   ]
  },
  {
   "cell_type": "markdown",
   "id": "951588e6",
   "metadata": {},
   "source": [
    "We are now able to create a dictionnary where the keys are elements symbol and the values are atomic \n",
    "masses. We have shown the first 5 elements."
   ]
  },
  {
   "cell_type": "code",
   "execution_count": 3,
   "id": "fdc19ab9",
   "metadata": {},
   "outputs": [
    {
     "name": "stdout",
     "output_type": "stream",
     "text": [
      "{'H': 1.008, 'He': 4.0026, 'Li': 7.0, 'Be': 9.012183, 'B': 10.81}\n"
     ]
    }
   ],
   "source": [
    "# 2. Create dictionary\n",
    "atomic_masses = dict(zip(df[\"Symbol\"], df[\"AtomicMass\"]))\n",
    "\n",
    "print(dict(list(atomic_masses.items())[:5]))"
   ]
  },
  {
   "cell_type": "markdown",
   "id": "46561631",
   "metadata": {},
   "source": [
    "We can now write a simple function that calculates the molecular mass of a molecule. The pattern will recognise the element and capture the following number that represents the number of atom of this element in the molecule. A simple loop will then calculate the molecular mass of the molecule and return it. \n",
    "\n",
    "You may run the cell to verify the good usage of the function. "
   ]
  },
  {
   "cell_type": "code",
   "execution_count": 4,
   "id": "339d59a8",
   "metadata": {},
   "outputs": [
    {
     "name": "stdout",
     "output_type": "stream",
     "text": [
      "18.015\n",
      "180.156\n",
      "58.4397693\n"
     ]
    }
   ],
   "source": [
    "# 3. Create function to compute molecular mass\n",
    "def molecular_mass(formula: str) -> float:\n",
    "    \"\"\"\n",
    "    Compute molecular mass of a formula like 'H2O' or 'C6H12O6'\n",
    "    \"\"\"\n",
    "    pattern = r\"([A-Z][a-z]?)(\\d*)\" \n",
    "    #([A-Z][a-z]?) is an element symbol (1 uppercase, optional lowercase)\n",
    "    # (\\d*) is an optional number (the count of atoms)\n",
    "    mass = 0.0\n",
    "    for element, count in re.findall(pattern, formula):\n",
    "        count = int(count) if count else 1 # If no number after element (e.g. 'O'), assume count = 1\n",
    "        mass += atomic_masses[element] * count # Add contribution of this element to the total mass\n",
    "    return mass\n",
    "\n",
    "# Example usage\n",
    "print(molecular_mass(\"H2O\"))  #18.015 g/mol\n",
    "print(molecular_mass(\"C6H12O6\"))  #180.156 g/mol\n",
    "print(molecular_mass(\"NaCl\"))  #58.44 g/mol"
   ]
  },
  {
   "cell_type": "markdown",
   "id": "142bfaf0",
   "metadata": {},
   "source": [
    "We now want to upgrade the function in order for it to handle parentheses in formulas."
   ]
  },
  {
   "cell_type": "code",
   "execution_count": 6,
   "id": "41771f9e",
   "metadata": {},
   "outputs": [
    {
     "name": "stdout",
     "output_type": "stream",
     "text": [
      "74.09400000000001\n"
     ]
    }
   ],
   "source": [
    "def parse_formula_recursive(tokens, i=0):\n",
    "    \"\"\"\n",
    "    Recursive parser for formulas with parentheses.\n",
    "    Input:\n",
    "        tokens - list of symbols, parentheses, and numbers\n",
    "        i      - current position in the token list\n",
    "    Output:\n",
    "        (counts, i) where counts is a dict of element counts,\n",
    "        and i is the next index to continue parsing from.\n",
    "    \"\"\"\n",
    "    counts = defaultdict(int)  # store element counts for this level\n",
    "\n",
    "    while i < len(tokens):\n",
    "        token = tokens[i]\n",
    "\n",
    "        if token == \"(\":\n",
    "            # Found an opening parenthesis → recurse to parse inside\n",
    "            sub_counts, i = parse_formula_recursive(tokens, i + 1)\n",
    "\n",
    "            # After returning, check if a multiplier follows the \")\"\n",
    "            multiplier = 1\n",
    "            if i < len(tokens) and tokens[i].isdigit():\n",
    "                multiplier = int(tokens[i])\n",
    "                i += 1\n",
    "\n",
    "            # Add multiplied sub_counts to the current level\n",
    "            for elem, cnt in sub_counts.items():\n",
    "                counts[elem] += cnt * multiplier\n",
    "\n",
    "        elif token == \")\":\n",
    "            # Found a closing parenthesis → return current group\n",
    "            return counts, i + 1\n",
    "\n",
    "        elif re.match(r\"[A-Z][a-z]?\", token):\n",
    "            # Found an element symbol (e.g. H, He, O)\n",
    "            elem = token\n",
    "            i += 1\n",
    "\n",
    "            # Check if the element has a count (like H2)\n",
    "            count = 1\n",
    "            if i < len(tokens) and tokens[i].isdigit():\n",
    "                count = int(tokens[i])\n",
    "                i += 1\n",
    "\n",
    "            counts[elem] += count  # add element count to current group\n",
    "            continue\n",
    "\n",
    "        else:\n",
    "            # Skip anything unexpected (defensive coding)\n",
    "            i += 1\n",
    "\n",
    "    # End of formula (top-level return)\n",
    "    return counts, i\n",
    "\n",
    "\n",
    "def molecular_mass_parentheses(formula: str) -> float:\n",
    "    \"\"\"\n",
    "    Compute molecular mass of a formula with parentheses using recursion.\n",
    "    \"\"\"\n",
    "    # Tokenize the formula into symbols, parentheses, and numbers\n",
    "    tokens = re.findall(r\"([A-Z][a-z]?|\\(|\\)|\\d+)\", formula)\n",
    "\n",
    "    # Parse recursively starting at index 0\n",
    "    elements, _ = parse_formula_recursive(tokens)\n",
    "\n",
    "    # Compute total mass by summing atomic mass * count\n",
    "    return sum(atomic_masses[e] * n for e, n in elements.items())\n",
    "\n",
    "# Example usage\n",
    "print(molecular_mass_parentheses(\"Ca(OH)2\"))  #74.094 g/mol"
   ]
  },
  {
   "cell_type": "markdown",
   "id": "6e08aeab",
   "metadata": {},
   "source": [
    "Let us extend the molecular mass calculator so it can handle coordinated (hydration) water, as would be the case in CuSO4·5H2O."
   ]
  },
  {
   "cell_type": "code",
   "execution_count": 24,
   "id": "8d724d0f",
   "metadata": {},
   "outputs": [
    {
     "name": "stdout",
     "output_type": "stream",
     "text": [
      "249.69100000000003\n"
     ]
    }
   ],
   "source": [
    "# 5. Handle hydration water \"·\"\n",
    "\n",
    "def molecular_mass_hydrate(formula: str) -> float:\n",
    "    \"\"\"\n",
    "    Calculate the molar mass of a compound, including hydrates using dot notation.\n",
    "    \n",
    "    Example:\n",
    "        \"CuSO4·5H2O\" -> copper(II) sulfate pentahydrate\n",
    "        \n",
    "    Parameters:\n",
    "        formula (str): Chemical formula, can include a hydrate part (e.g., '·5H2O')\n",
    "    \n",
    "    Returns:\n",
    "        float: Total molar mass in g/mol\n",
    "    \"\"\"\n",
    "    # Split the formula on the dot (·) which separates the main compound from the water molecules\n",
    "    parts = formula.split(\"·\")\n",
    "    total_mass = 0  # Initialize total molar mass\n",
    "    \n",
    "    for part in parts:\n",
    "        # Check if the part starts with a number (e.g., '5H2O')\n",
    "        match = re.match(r\"(\\d+)([A-Za-z].*)\", part)\n",
    "        if match:\n",
    "            multiplier = int(match.group(1))  # e.g., 5\n",
    "            subformula = match.group(2)       # e.g., H2O\n",
    "            # Multiply the molar mass of the subformula by the multiplier\n",
    "            total_mass += multiplier * molecular_mass_parentheses(subformula)\n",
    "        else:\n",
    "            # No leading number: just add the mass of the formula directly\n",
    "            total_mass += molecular_mass_parentheses(part)\n",
    "    \n",
    "    return total_mass\n",
    "\n",
    "# Example usage\n",
    "print(molecular_mass_hydrate(\"CuSO4·5H2O\"))  # Should print ~249.691 g/mol"
   ]
  },
  {
   "cell_type": "markdown",
   "id": "c2db2d03",
   "metadata": {},
   "source": [
    "### Part B - Stoichiometry and reaction balancing"
   ]
  },
  {
   "cell_type": "markdown",
   "id": "9b285c65",
   "metadata": {},
   "source": [
    "In this part, we will focus on balancing chemical equations. \n",
    "\n",
    "The goal is to write a function that takes as input a list of chemical formulas for reactants products. It should return a list of stoichiometric coefficients that balance the reaction.\n",
    "\n",
    "As a first step, a utility `function element_count(formula)` is used to count the number of each element in a formula."
   ]
  },
  {
   "cell_type": "code",
   "execution_count": 44,
   "id": "684f7f15",
   "metadata": {},
   "outputs": [
    {
     "name": "stdout",
     "output_type": "stream",
     "text": [
      "Formula: H2O -> Element counts: {'H': 2, 'O': 1}\n",
      "Formula: CO2 -> Element counts: {'C': 1, 'O': 2}\n"
     ]
    }
   ],
   "source": [
    "import numpy as np\n",
    "from sympy import Matrix\n",
    "\n",
    "# Utility: element counts for formulas\n",
    "def element_count(formula: str) -> dict:\n",
    "    pattern = r\"([A-Z][a-z]?)(\\d*)\"\n",
    "    counts = defaultdict(int)\n",
    "    for element, num in re.findall(pattern, formula):\n",
    "        counts[element] += int(num) if num else 1\n",
    "    return dict(counts)\n",
    "\n",
    "# Test cases for element_count\n",
    "test_formulas = [\"H2O\", \"CO2\"]\n",
    "\n",
    "for formula in test_formulas:\n",
    "    counts = element_count(formula)\n",
    "    print(f\"Formula: {formula} -> Element counts: {counts}\")"
   ]
  },
  {
   "cell_type": "markdown",
   "id": "e2c7958b",
   "metadata": {},
   "source": [
    "With this, the `balance_reaction` function finds stoichiometric coefficients that balance a chemical reaction. It combines reactants and products and identifies all elements. It builds a matrix where each row is an element and each column is a species, with reactants positive and products negative. The matrix nullspace gives a solution for the coefficients. Fractions are converted to integers using the least common multiple. The function returns the coefficients in order of reactants and products."
   ]
  },
  {
   "cell_type": "code",
   "execution_count": 45,
   "id": "c192650d",
   "metadata": {},
   "outputs": [
    {
     "name": "stdout",
     "output_type": "stream",
     "text": [
      "[2, 1, 2]\n",
      "[2, 7, 4, 6]\n",
      "[4, 3, 2]\n"
     ]
    }
   ],
   "source": [
    "# 1. Balance reaction\n",
    "def balance_reaction(reactants, products):\n",
    "    # Combine all species for processing\n",
    "    species = reactants + products\n",
    "    \n",
    "    # Collect all unique elements in the reaction\n",
    "    elements = set()\n",
    "    for f in species:\n",
    "        elements |= set(element_count(f).keys())\n",
    "    elements = list(elements)\n",
    "\n",
    "    # Build the matrix representing the system of equations\n",
    "    # Each row corresponds to an element\n",
    "    # Each column corresponds to a species\n",
    "    # Reactants are positive, products are negative\n",
    "    A = []\n",
    "    for elem in elements:\n",
    "        row = []\n",
    "        for f in reactants:\n",
    "            row.append(element_count(f).get(elem, 0))\n",
    "        for f in products:\n",
    "            row.append(-element_count(f).get(elem, 0))\n",
    "        A.append(row)\n",
    "\n",
    "    # Convert the list of lists into a sympy Matrix\n",
    "    M = Matrix(A)\n",
    "    \n",
    "    # Solve for the nullspace, which gives the coefficients\n",
    "    nullspace = M.nullspace()\n",
    "    if not nullspace:\n",
    "        raise ValueError(\"No solution found\")\n",
    "    \n",
    "    # Take the first vector from the nullspace as the solution\n",
    "    coeffs = nullspace[0]\n",
    "    \n",
    "    # Convert fractional coefficients to integers\n",
    "    lcm = np.lcm.reduce([c.q for c in coeffs])  # find least common multiple of denominators\n",
    "    coeffs = [int(c*lcm) for c in coeffs]\n",
    "    \n",
    "    return coeffs\n",
    "\n",
    "# Example tests\n",
    "print(balance_reaction([\"H2\",\"O2\"], [\"H2O\"]))         # 2H2 + O2 → 2H2O\n",
    "print(balance_reaction([\"C2H6\",\"O2\"], [\"CO2\",\"H2O\"])) # 2C2H6 + 7O2 → 4CO2 + 6H2O\n",
    "print(balance_reaction([\"Fe\",\"O2\"], [\"Fe2O3\"]))       # 4Fe + 3O2 → 2Fe2O3"
   ]
  },
  {
   "cell_type": "markdown",
   "id": "0879a5a0",
   "metadata": {},
   "source": [
    "To be practical, let's modify the code to make it fully safeproof. In particular, what if the user didn't input things right? or worse, if there are no solutions? "
   ]
  },
  {
   "cell_type": "code",
   "execution_count": 46,
   "id": "9a514626",
   "metadata": {},
   "outputs": [
    {
     "name": "stdout",
     "output_type": "stream",
     "text": [
      "Reaction must have at least one reactant and one product\n",
      "Invalid chemical formula: '123'\n",
      "No valid solution found for the reaction\n"
     ]
    }
   ],
   "source": [
    "# 1. Balance reaction\n",
    "def balance_reaction(reactants, products):\n",
    "    # Safeguard: ensure there is at least one reactant and one product\n",
    "    if not reactants or not products:\n",
    "        raise ValueError(\"Reaction must have at least one reactant and one product\")\n",
    "    \n",
    "    # Safeguard: check that all formulas are non-empty strings\n",
    "    for f in reactants + products:\n",
    "        if not isinstance(f, str) or not f.strip():\n",
    "            raise ValueError(f\"Invalid chemical formula: '{f}'\")\n",
    "    \n",
    "    species = reactants + products\n",
    "    elements = set()\n",
    "    for f in species:\n",
    "        elements |= set(element_count(f).keys())\n",
    "    elements = list(elements)\n",
    "\n",
    "    A = []\n",
    "    for elem in elements:\n",
    "        row = []\n",
    "        for f in reactants:\n",
    "            row.append(element_count(f).get(elem, 0))\n",
    "        for f in products:\n",
    "            row.append(-element_count(f).get(elem, 0))\n",
    "        A.append(row)\n",
    "\n",
    "    M = Matrix(A)\n",
    "    \n",
    "    # Safeguard: check that nullspace exists and is not all zeros\n",
    "    nullspace = M.nullspace()\n",
    "    if not nullspace or all(c == 0 for c in nullspace[0]):\n",
    "        raise ValueError(\"No valid solution found for the reaction\")\n",
    "    \n",
    "    # 1. No reactants (same for products)\n",
    "try:\n",
    "    balance_reaction([], [\"H2O\"])\n",
    "except ValueError as e:\n",
    "    print(e)  # Output: Reaction must have at least one reactant and one product\n",
    "\n",
    "# 2. Invalid formula (non-string)\n",
    "try:\n",
    "    balance_reaction([\"H2\", 123], [\"H2O\"])\n",
    "except ValueError as e:\n",
    "    print(e)  # Output: Invalid chemical formula: '123'\n",
    "\n",
    "# 3. Reaction that cannot be balanced (e.g., impossible reaction)\n",
    "try:\n",
    "    balance_reaction([\"H2\"], [\"CO2\"])\n",
    "except ValueError as e:\n",
    "    print(e)  # Output: No valid solution found for the reaction"
   ]
  },
  {
   "cell_type": "markdown",
   "id": "ae80584b",
   "metadata": {},
   "source": [
    "Now, we can also check wether the total mass of the reactants is conserved in the products, as would be the case accoring to the Lavoisier principle. We have used the `molecular_mass_parentheses` established before"
   ]
  },
  {
   "cell_type": "code",
   "execution_count": 50,
   "id": "8857e80f",
   "metadata": {},
   "outputs": [
    {
     "name": "stdout",
     "output_type": "stream",
     "text": [
      "True\n",
      "True\n",
      "True\n",
      "False\n"
     ]
    }
   ],
   "source": [
    "# 2. Mass conservation check\n",
    "def check_mass_conservation(reactants, products, coeffs):\n",
    "    n_reactants = len(reactants)\n",
    "    \n",
    "    # Calculate total mass of reactants using their coefficients\n",
    "    react_mass = sum(molecular_mass_parentheses(f)*coeffs[i] for i,f in enumerate(reactants))\n",
    "\n",
    "    # Calculate total mass of products using their coefficients\n",
    "    prod_mass  = sum(molecular_mass_parentheses(f)*coeffs[i+n_reactants] for i,f in enumerate(products))\n",
    "    return abs(react_mass - prod_mass) < 1e-6\n",
    "\n",
    "# Example usage\n",
    "print(check_mass_conservation([\"H2\",\"O2\"], [\"H2O\"], [2,1,2]))  # True\n",
    "print(check_mass_conservation([\"C2H6\",\"O2\"], [\"CO2\",\"H2O\"], [2,7,4,6])) # True\n",
    "print(check_mass_conservation([\"Fe\",\"O2\"], [\"Fe2O3\"], [4,3,2]))  # True\n",
    "\n",
    "print(check_mass_conservation([\"H2\",\"O2\"], [\"H2O\"], [2,1,1]))  # False\n"
   ]
  },
  {
   "cell_type": "markdown",
   "id": "4c59ac33",
   "metadata": {},
   "source": [
    "### Part C - Simulation / Modeling"
   ]
  },
  {
   "cell_type": "markdown",
   "id": "3acbb4fc",
   "metadata": {},
   "source": [
    "The goal of this exercise is to estimate the value of π using a Monte Carlo simulation. The method is based on randomly generating points in a square and counting how many fall inside a circle. The ratio of points inside the circle to the total points is proportional to the area of the circle, which allows us to estimate π. As the number of points increases, the estimate converges to the actual value of π.\n",
    "\n",
    "Consider a square with side length 2 centered at the origin. Its area is:\n",
    "\n",
    "$𝐴_{square}=2⋅2=4$\n",
    "\n",
    "Inside this square, consider a circle of radius 1. Its area is:\n",
    "\n",
    "$𝐴{circle}=𝜋𝑟^2=𝜋⋅1^2=𝜋$\n",
    "\n",
    "The probability that a random point inside the square also lies inside the circle is:\n",
    "\n",
    "$P(point in circle)=\\frac{A_{circle}}{A_{sqaure}​}= \\frac{π}{4}$\n",
    "\n",
    "If we generate 𝑁 random points and count $𝑁_{inside}$ points that fall inside the circle, the fraction inside the circle approximates this probability:\n",
    "\n",
    "$\\frac{N_{inside}}{N}≈\\frac{pi}{4}$\n",
    "\n"
   ]
  },
  {
   "cell_type": "code",
   "execution_count": 55,
   "id": "52fc9093",
   "metadata": {},
   "outputs": [
    {
     "name": "stdout",
     "output_type": "stream",
     "text": [
      "3.1612\n"
     ]
    },
    {
     "data": {
      "image/png": "[encoded data removed]",
      "text/plain": [
       "<Figure size 640x480 with 1 Axes>"
      ]
     },
     "metadata": {},
     "output_type": "display_data"
    }
   ],
   "source": [
    "import random\n",
    "import matplotlib.pyplot as plt\n",
    "import numpy as np  # Needed for the actual π line in the plot\n",
    "\n",
    "# Function to estimate π using N random points\n",
    "def estimate_pi(N):\n",
    "    inside = 0  # Counter for points that fall inside the unit circle\n",
    "    for _ in range(N):\n",
    "        # Generate a random point (x, y) in the square from -1 to 1\n",
    "        x, y = random.uniform(-1,1), random.uniform(-1,1)\n",
    "        # Check if the point is inside the unit circle (distance from origin ≤ 1)\n",
    "        if x**2 + y**2 <= 1:\n",
    "            inside += 1\n",
    "    # Estimate π as 4 times the fraction of points inside the circle\n",
    "    return 4 * inside / N\n",
    "\n",
    "# Function to visualize how the π estimate converges as N increases\n",
    "def convergence_plot(maxN=10000, step=500):\n",
    "    estimates = []\n",
    "    # Calculate π estimates at intervals of 'step' up to 'maxN'\n",
    "    trials = range(step, maxN+1, step)\n",
    "    for n in trials:\n",
    "        estimates.append(estimate_pi(n))\n",
    "    # Plot the Monte Carlo estimates\n",
    "    plt.plot(trials, estimates, label=\"Monte Carlo π\")\n",
    "    # Add a reference line showing the actual value of π\n",
    "    plt.axhline(np.pi, color=\"r\", linestyle=\"--\", label=\"Actual π\")\n",
    "    plt.xlabel(\"Number of Points N\")\n",
    "    plt.ylabel(\"Estimated π\")\n",
    "    plt.title(\"Convergence of Monte Carlo π Estimation\")\n",
    "    plt.legend()\n",
    "    plt.show()\n",
    "\n",
    "# Example usage\n",
    "print(estimate_pi(10000))          # Estimate π using 10,000 points\n",
    "convergence_plot(10000, 500)      # Visualize convergence of the estimate"
   ]
  },
  {
   "cell_type": "markdown",
   "id": "33232377",
   "metadata": {},
   "source": [
    "Monte Carlo can also be used in chemistry. For example, it cand model molecular collisions in a box and estimate the probability that a collision has enough energy to overcome a reaction threshold. \n",
    "\n",
    "1) Each collision is assigned a random energy, which can be drawn either from a uniform distribution or a Gaussian (normal) distribution. \n",
    "2) By generating a large number of collisions, we can use the fraction of collisions that exceed a specified energy threshold as an estimate of the reaction probability. This approach is inspired by kinetic theory in chemistry, where molecules in a gas have a distribution of energies, and only those with sufficient energy can participate in reactions. \n",
    "\n",
    "The Monte Carlo method is well suited for this task because it relies on repeated random sampling to estimate a quantity that would be difficult to calculate exactly. The output of the simulation includes both the estimated probability and the list of energies for all collisions, which can be used to analyze the energy distribution or visualize it with a histogram."
   ]
  },
  {
   "cell_type": "code",
   "execution_count": 62,
   "id": "0a0cf774",
   "metadata": {},
   "outputs": [
    {
     "name": "stdout",
     "output_type": "stream",
     "text": [
      "Estimated reaction probability (uniform): 0.4976\n",
      "Estimated reaction probability (Gaussian): 0.5028\n"
     ]
    },
    {
     "data": {
      "image/png": "[encoded data removed]",
      "text/plain": [
       "<Figure size 640x480 with 1 Axes>"
      ]
     },
     "metadata": {},
     "output_type": "display_data"
    }
   ],
   "source": [
    "# 2. Chemistry-inspired Monte Carlo\n",
    "def simulate_collisions(M, threshold=5.0, distribution=\"uniform\"):\n",
    "    exceed = 0        # Counter for collisions exceeding threshold energy\n",
    "    energies = []     # List to store the energy of each collision\n",
    "    for _ in range(M):\n",
    "        if distribution == \"uniform\":\n",
    "            e = random.uniform(0, 10)  # Random energy between 0 and 10\n",
    "        else:\n",
    "            e = random.gauss(5, 2)     # Random energy from Gaussian distribution\n",
    "        energies.append(e)\n",
    "        if e > threshold:\n",
    "            exceed += 1\n",
    "    # Return estimated reaction probability and list of energies\n",
    "    return exceed / M, energies\n",
    "\n",
    "# Example usage\n",
    "prob_uniform, energies_uniform = simulate_collisions(10000, distribution=\"uniform\")  # Probability with uniform distribution\n",
    "prob_gauss, energies_gauss = simulate_collisions(10000, distribution=\"gauss\")      # Probability with Gaussian distribution\n",
    "\n",
    "# Print the estimated probabilities\n",
    "print(f\"Estimated reaction probability (uniform): {prob_uniform:.4f}\")\n",
    "print(f\"Estimated reaction probability (Gaussian): {prob_gauss:.4f}\")\n",
    "\n",
    "# Plot histograms of collision energies for visualization\n",
    "plt.hist(energies_uniform, bins=50, alpha=0.5, label=\"Uniform\")\n",
    "plt.hist(energies_gauss, bins=50, alpha=0.5, label=\"Gaussian\")\n",
    "plt.axvline(5.0, color=\"r\", linestyle=\"--\", label=\"Threshold\")\n",
    "plt.xlabel(\"Collision Energy\")\n",
    "plt.ylabel(\"Frequency\")\n",
    "plt.title(\"Distribution of Collision Energies\")\n",
    "plt.legend()\n",
    "plt.show()"
   ]
  },
  {
   "cell_type": "markdown",
   "id": "483a0c80",
   "metadata": {},
   "source": [
    "*Note to reader*:\n",
    "In this project, ChatGPT (GPT-5, by OpenAI) was used as a supplementary resource. It was consulted to look up Python functions, to obtain example usages, and to clarify implementation details. The provided information was adapted and integrated into the final work."
   ]
  }
 ],
 "metadata": {
  "kernelspec": {
   "display_name": "ppchem",
   "language": "python",
   "name": "python3"
  },
  "language_info": {
   "codemirror_mode": {
    "name": "ipython",
    "version": 3
   },
   "file_extension": ".py",
   "mimetype": "text/x-python",
   "name": "python",
   "nbconvert_exporter": "python",
   "pygments_lexer": "ipython3",
   "version": "3.10.16"
  }
 },
 "nbformat": 4,
 "nbformat_minor": 5
}
