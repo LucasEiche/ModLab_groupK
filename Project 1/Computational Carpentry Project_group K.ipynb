{
 "cells": [
  {
   "cell_type": "markdown",
   "id": "d7492a09",
   "metadata": {},
   "source": [
    "# Computational Carpentry - Project\n",
    "#### Group K - Julian Barth, Marin Desgeans, Lucas Eichenberger\n",
    "26 september 2025\n",
    "\n",
    "\n",
    "#### Part A – Data structures and functions\n",
    "\n",
    "The goal of this part is to create a function capable of calculating the molecular mass of any molecule. For this we will first load a periodic table containing all the elements' masses."
   ]
  },
  {
   "cell_type": "code",
   "execution_count": null,
   "id": "f8d74fd6",
   "metadata": {},
   "outputs": [],
   "source": [
    "import pandas as pd\n",
    "import re\n",
    "from collections import defaultdict\n",
    "\n",
    "# 1. Load periodic_table.csv\n",
    "df = pd.read_csv(\"periodic_table.csv\")"
   ]
  },
  {
   "cell_type": "markdown",
   "id": "951588e6",
   "metadata": {},
   "source": [
    "We are now able to create a dictionnary where the keys are elements symbol and the values are atomic \n",
    "masses."
   ]
  },
  {
   "cell_type": "code",
   "execution_count": null,
   "id": "fdc19ab9",
   "metadata": {},
   "outputs": [],
   "source": [
    "# 2. Create dictionary\n",
    "atomic_masses = dict(zip(df[\"Symbol\"], df[\"AtomicMass\"]))"
   ]
  },
  {
   "cell_type": "markdown",
   "id": "46561631",
   "metadata": {},
   "source": [
    "We can now write a simple function that calculates the molecular mass of a molecule. The pattern will recognise the element and capture the following number that represents the number of atom of this element in the molecule. A simple loop will then calculate the molecular mass of the molecule and return it. \n",
    "\n",
    "You may run the cell to verify the good usage of the function. "
   ]
  },
  {
   "cell_type": "code",
   "execution_count": 4,
   "id": "339d59a8",
   "metadata": {},
   "outputs": [
    {
     "name": "stdout",
     "output_type": "stream",
     "text": [
      "18.015\n",
      "180.156\n",
      "58.4397693\n"
     ]
    }
   ],
   "source": [
    "# 3. Create function to compute molecular mass\n",
    "def molecular_mass(formula: str) -> float:\n",
    "    \"\"\"\n",
    "    Compute molecular mass of a formula like 'H2O' or 'C6H12O6'\n",
    "    \"\"\"\n",
    "    pattern = r\"([A-Z][a-z]?)(\\d*)\"\n",
    "    mass = 0.0\n",
    "    for element, count in re.findall(pattern, formula):\n",
    "        count = int(count) if count else 1\n",
    "        mass += atomic_masses[element] * count\n",
    "    return mass\n",
    "\n",
    "# Example usage\n",
    "print(molecular_mass(\"H2O\"))  \n",
    "print(molecular_mass(\"C6H12O6\"))\n",
    "print(molecular_mass(\"NaCl\"))"
   ]
  },
  {
   "cell_type": "markdown",
   "id": "142bfaf0",
   "metadata": {},
   "source": [
    "We now want to upgrade the function in order for it to handle parentheses in formulas."
   ]
  },
  {
   "cell_type": "code",
   "execution_count": 5,
   "id": "41771f9e",
   "metadata": {},
   "outputs": [
    {
     "name": "stdout",
     "output_type": "stream",
     "text": [
      "57.087\n",
      "74.094\n"
     ]
    }
   ],
   "source": [
    "# 4. Handle parentheses\n",
    "\n",
    "def parse_formula(formula: str) -> dict:\n",
    "    \"\"\"\n",
    "    Parse formula into element counts (supports parentheses).\n",
    "    Example: Ca(OH)2 -> {'Ca':1,'O':2,'H':2}\n",
    "    \"\"\"\n",
    "    tokens = re.findall(r\"([A-Z][a-z]?|\\(|\\)|\\d+)\", formula)\n",
    "    stack = [defaultdict(int)]\n",
    "    i = 0\n",
    "    while i < len(tokens):\n",
    "        token = tokens[i]\n",
    "        if token == \"(\":\n",
    "            stack.append(defaultdict(int))\n",
    "        elif token == \")\":\n",
    "            group = stack.pop()\n",
    "            i += 1\n",
    "            multiplier = int(tokens[i]) if (i < len(tokens) and tokens[i].isdigit()) else 1\n",
    "            for elem, cnt in group.items():\n",
    "                stack[-1][elem] += cnt * multiplier\n",
    "        elif re.match(r\"[A-Z][a-z]?\", token):\n",
    "            elem = token\n",
    "            i += 1\n",
    "            count = int(tokens[i]) if (i < len(tokens) and tokens[i].isdigit()) else 1\n",
    "            stack[-1][elem] += count\n",
    "            continue\n",
    "        elif token.isdigit():\n",
    "            pass\n",
    "        i += 1\n",
    "    return dict(stack.pop())\n",
    "\n",
    "def molecular_mass_parentheses(formula: str) -> float:\n",
    "    elements = parse_formula(formula)\n",
    "    return sum(atomic_masses[e] * n for e, n in elements.items())\n",
    "\n",
    "# Example usage\n",
    "print(molecular_mass(\"Ca(OH)2\"))\n",
    "print(molecular_mass_parentheses(\"Ca(OH)2\"))  "
   ]
  },
  {
   "cell_type": "markdown",
   "id": "6e08aeab",
   "metadata": {},
   "source": []
  },
  {
   "cell_type": "code",
   "execution_count": 6,
   "id": "8d724d0f",
   "metadata": {},
   "outputs": [
    {
     "name": "stdout",
     "output_type": "stream",
     "text": [
      "177.631\n"
     ]
    }
   ],
   "source": [
    "# 5. Handle hydration water \"·\"\n",
    "\n",
    "def molecular_mass_hydrate(formula: str) -> float:\n",
    "    \"\"\"\n",
    "    Handles dot notation, e.g. CuSO4·5H2O\n",
    "    \"\"\"\n",
    "    parts = formula.split(\".\")\n",
    "    total_mass = 0\n",
    "    for part in parts:\n",
    "        match = re.match(r\"(\\d+)([A-Za-z].*)\", part)\n",
    "        if match:\n",
    "            multiplier, f = int(match.group(1)), match.group(2)\n",
    "            total_mass += multiplier * molecular_mass_parentheses(f)\n",
    "        else:\n",
    "            total_mass += molecular_mass_parentheses(part)\n",
    "    return total_mass\n",
    "\n",
    "# Example usage\n",
    "print(molecular_mass_hydrate(\"CuSO4·5H2O\"))"
   ]
  },
  {
   "cell_type": "markdown",
   "id": "c2db2d03",
   "metadata": {},
   "source": [
    "### Part B - Stoichiometry and reaction balancing"
   ]
  },
  {
   "cell_type": "code",
   "execution_count": null,
   "id": "684f7f15",
   "metadata": {},
   "outputs": [],
   "source": [
    "import numpy as np\n",
    "from sympy import Matrix\n",
    "\n",
    "# Utility: element counts for formulas (no hydration/parentheses for now)\n",
    "def element_count(formula: str) -> dict:\n",
    "    pattern = r\"([A-Z][a-z]?)(\\d*)\"\n",
    "    counts = defaultdict(int)\n",
    "    for element, num in re.findall(pattern, formula):\n",
    "        counts[element] += int(num) if num else 1\n",
    "    return dict(counts)"
   ]
  },
  {
   "cell_type": "code",
   "execution_count": null,
   "id": "c192650d",
   "metadata": {},
   "outputs": [],
   "source": [
    "# 1. Balance reaction\n",
    "def balance_reaction(reactants, products):\n",
    "    species = reactants + products\n",
    "    elements = set()\n",
    "    for f in species:\n",
    "        elements |= set(element_count(f).keys())\n",
    "    elements = list(elements)\n",
    "\n",
    "    # Build matrix\n",
    "    A = []\n",
    "    for elem in elements:\n",
    "        row = []\n",
    "        for f in reactants:\n",
    "            row.append(element_count(f).get(elem, 0))\n",
    "        for f in products:\n",
    "            row.append(-element_count(f).get(elem, 0))\n",
    "        A.append(row)\n",
    "\n",
    "    M = Matrix(A)\n",
    "    nullspace = M.nullspace()\n",
    "    if not nullspace:\n",
    "        raise ValueError(\"No solution found\")\n",
    "    coeffs = nullspace[0]\n",
    "    lcm = np.lcm.reduce([c.q for c in coeffs])  # denominator lcm\n",
    "    coeffs = [int(c*lcm) for c in coeffs]\n",
    "    return coeffs\n",
    "\n",
    "# Example tests\n",
    "print(balance_reaction([\"H2\",\"O2\"], [\"H2O\"]))         # 2H2 + O2 → 2H2O\n",
    "print(balance_reaction([\"C2H6\",\"O2\"], [\"CO2\",\"H2O\"])) # combustion\n",
    "print(balance_reaction([\"Fe\",\"O2\"], [\"Fe2O3\"]))       # iron oxidation"
   ]
  },
  {
   "cell_type": "code",
   "execution_count": null,
   "id": "8857e80f",
   "metadata": {},
   "outputs": [],
   "source": [
    "# 2. Mass conservation check\n",
    "def check_mass_conservation(reactants, products, coeffs):\n",
    "    n_reactants = len(reactants)\n",
    "    react_mass = sum(molecular_mass_parentheses(f)*coeffs[i] for i,f in enumerate(reactants))\n",
    "    prod_mass  = sum(molecular_mass_parentheses(f)*coeffs[i+n_reactants] for i,f in enumerate(products))\n",
    "    return abs(react_mass - prod_mass) < 1e-6"
   ]
  },
  {
   "cell_type": "markdown",
   "id": "4c59ac33",
   "metadata": {},
   "source": [
    "### Part C - Simulation / Modeling"
   ]
  },
  {
   "cell_type": "code",
   "execution_count": null,
   "id": "52fc9093",
   "metadata": {},
   "outputs": [],
   "source": [
    "import random\n",
    "import matplotlib.pyplot as plt\n",
    "\n",
    "# 1. Monte Carlo π estimation\n",
    "def estimate_pi(N):\n",
    "    inside = 0\n",
    "    for _ in range(N):\n",
    "        x, y = random.uniform(-1,1), random.uniform(-1,1)\n",
    "        if x**2 + y**2 <= 1:\n",
    "            inside += 1\n",
    "    return 4 * inside / N\n",
    "\n",
    "# Convergence plot\n",
    "def convergence_plot(maxN=10000, step=500):\n",
    "    estimates = []\n",
    "    trials = range(step, maxN+1, step)\n",
    "    for n in trials:\n",
    "        estimates.append(estimate_pi(n))\n",
    "    plt.plot(trials, estimates, label=\"Monte Carlo π\")\n",
    "    plt.axhline(np.pi, color=\"r\", linestyle=\"--\", label=\"Actual π\")\n",
    "    plt.xlabel(\"N\")\n",
    "    plt.ylabel(\"Estimate\")\n",
    "    plt.legend()\n",
    "    plt.show()"
   ]
  },
  {
   "cell_type": "code",
   "execution_count": null,
   "id": "0a0cf774",
   "metadata": {},
   "outputs": [],
   "source": [
    "# 2. Chemistry-inspired Monte Carlo\n",
    "def simulate_collisions(M, threshold=5.0, distribution=\"uniform\"):\n",
    "    exceed = 0\n",
    "    energies = []\n",
    "    for _ in range(M):\n",
    "        if distribution == \"uniform\":\n",
    "            e = random.uniform(0, 10)\n",
    "        else:\n",
    "            e = random.gauss(5, 2)\n",
    "        energies.append(e)\n",
    "        if e > threshold:\n",
    "            exceed += 1\n",
    "    return exceed / M, energies"
   ]
  }
 ],
 "metadata": {
  "kernelspec": {
   "display_name": "modlab",
   "language": "python",
   "name": "python3"
  },
  "language_info": {
   "codemirror_mode": {
    "name": "ipython",
    "version": 3
   },
   "file_extension": ".py",
   "mimetype": "text/x-python",
   "name": "python",
   "nbconvert_exporter": "python",
   "pygments_lexer": "ipython3",
   "version": "3.13.7"
  }
 },
 "nbformat": 4,
 "nbformat_minor": 5
}
