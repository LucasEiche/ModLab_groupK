{
 "cells": [
  {
   "cell_type": "markdown",
   "id": "d7492a09",
   "metadata": {},
   "source": [
    "# Computational Carpentry - Project\n",
    "#### Group K - Julian Barth, Marin Desgeans, Lucas Eichenberger\n",
    "26 september 2025\n",
    "\n",
    "\n",
    "#### Part A – Data structures and functions\n",
    "\n",
    "The goal of this part is to create a function capable of calculating the molecular mass of any molecule. For this we will first load a periodic table containing all the elements' masses."
   ]
  },
  {
   "cell_type": "code",
   "execution_count": null,
   "id": "f8d74fd6",
   "metadata": {},
   "outputs": [],
   "source": [
    "import pandas as pd\n",
    "import re\n",
    "from collections import defaultdict\n",
    "\n",
    "# 1. Load periodic_table.csv\n",
    "df = pd.read_csv(\"periodic_table.csv\")"
   ]
  },
  {
   "cell_type": "markdown",
   "id": "951588e6",
   "metadata": {},
   "source": [
    "We are now able to create a dictionnary where the keys are elements symbol and the values are atomic \n",
    "masses."
   ]
  },
  {
   "cell_type": "code",
   "execution_count": null,
   "id": "fdc19ab9",
   "metadata": {},
   "outputs": [],
   "source": [
    "# 2. Create dictionary\n",
    "atomic_masses = dict(zip(df[\"Symbol\"], df[\"AtomicMass\"]))"
   ]
  },
  {
   "cell_type": "markdown",
   "id": "46561631",
   "metadata": {},
   "source": []
  },
  {
   "cell_type": "code",
   "execution_count": null,
   "id": "339d59a8",
   "metadata": {},
   "outputs": [],
   "source": []
  }
 ],
 "metadata": {
  "kernelspec": {
   "display_name": "modlab",
   "language": "python",
   "name": "python3"
  },
  "language_info": {
   "codemirror_mode": {
    "name": "ipython",
    "version": 3
   },
   "file_extension": ".py",
   "mimetype": "text/x-python",
   "name": "python",
   "nbconvert_exporter": "python",
   "pygments_lexer": "ipython3",
   "version": "3.13.7"
  }
 },
 "nbformat": 4,
 "nbformat_minor": 5
}
