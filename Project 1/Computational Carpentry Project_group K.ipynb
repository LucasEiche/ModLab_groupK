{
 "cells": [
  {
   "cell_type": "markdown",
   "id": "d7492a09",
   "metadata": {},
   "source": []
  },
  {
   "cell_type": "code",
   "execution_count": null,
   "id": "f8d74fd6",
   "metadata": {},
   "outputs": [],
   "source": [
    "import pandas as pd\n",
    "import re\n",
    "from collections import defaultdict\n",
    "\n",
    "# 1. Load periodic_table.csv\n",
    "df = pd.read_csv(\"periodic_table.csv\")\n",
    "\n",
    "# 2. Create dictionary {symbol: atomic_mass}\n",
    "atomic_masses = dict(zip(df[\"Symbol\"], df[\"AtomicMass\"]))"
   ]
  }
 ],
 "metadata": {
  "kernelspec": {
   "display_name": "modlab",
   "language": "python",
   "name": "python3"
  },
  "language_info": {
   "name": "python",
   "version": "3.13.7"
  }
 },
 "nbformat": 4,
 "nbformat_minor": 5
}
